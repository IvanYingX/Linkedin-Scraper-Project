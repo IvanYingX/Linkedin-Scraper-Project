{
 "cells": [
  {
   "cell_type": "code",
   "execution_count": 2,
   "metadata": {},
   "outputs": [],
   "source": [
    "from sqlalchemy import create_engine\n",
    "import pandas as pd\n",
    "from secrets import (\n",
    "    DATABASE_TYPE,\n",
    "    DBAPI,\n",
    "    ENDPOINT,\n",
    "    USER,\n",
    "    PASSWORD,\n",
    "    PORT,\n",
    "    DATABASE\n",
    ")\n"
   ]
  },
  {
   "cell_type": "code",
   "execution_count": 46,
   "metadata": {},
   "outputs": [],
   "source": [
    "\n",
    "engine = create_engine(f\"{DATABASE_TYPE}+{DBAPI}://{USER}:{PASSWORD}@{ENDPOINT}:{PORT}/{DATABASE}\")\n",
    "\n",
    "links = engine.execute('''SELECT SUBSTRING(\"Job_link\", 36, 10) FROM scraped_data''').fetchall()\n",
    "\n",
    "#links2 = pd.read_sql_table('scraped_data', engine)\n",
    "\n",
    "#links2[[\"Job_link\"]][1:10]\n",
    "\n",
    "pd.set_option('display.max_colwidth', 255) \n",
    "\n",
    "        "
   ]
  },
  {
   "cell_type": "code",
   "execution_count": 20,
   "metadata": {},
   "outputs": [
    {
     "data": {
      "text/html": [
       "<div>\n",
       "<style scoped>\n",
       "    .dataframe tbody tr th:only-of-type {\n",
       "        vertical-align: middle;\n",
       "    }\n",
       "\n",
       "    .dataframe tbody tr th {\n",
       "        vertical-align: top;\n",
       "    }\n",
       "\n",
       "    .dataframe thead th {\n",
       "        text-align: right;\n",
       "    }\n",
       "</style>\n",
       "<table border=\"1\" class=\"dataframe\">\n",
       "  <thead>\n",
       "    <tr style=\"text-align: right;\">\n",
       "      <th></th>\n",
       "      <th>Job_link</th>\n",
       "    </tr>\n",
       "  </thead>\n",
       "  <tbody>\n",
       "    <tr>\n",
       "      <th>0</th>\n",
       "      <td>https://www.linkedin.com/jobs/view/2872359145/...</td>\n",
       "    </tr>\n",
       "  </tbody>\n",
       "</table>\n",
       "</div>"
      ],
      "text/plain": [
       "                                            Job_link\n",
       "0  https://www.linkedin.com/jobs/view/2872359145/..."
      ]
     },
     "execution_count": 20,
     "metadata": {},
     "output_type": "execute_result"
    }
   ],
   "source": [
    "links2[[\"Job_link\"]][:1]\n"
   ]
  },
  {
   "cell_type": "code",
   "execution_count": 50,
   "metadata": {},
   "outputs": [
    {
     "ename": "AttributeError",
     "evalue": "'str' object has no attribute 'text'",
     "output_type": "error",
     "traceback": [
      "\u001b[0;31m---------------------------------------------------------------------------\u001b[0m",
      "\u001b[0;31mAttributeError\u001b[0m                            Traceback (most recent call last)",
      "\u001b[0;32m<ipython-input-50-fc4e4c83df3a>\u001b[0m in \u001b[0;36m<module>\u001b[0;34m\u001b[0m\n\u001b[1;32m      2\u001b[0m \u001b[0;31m#yourstring = \"L\" + yourstring + \"LL\"\u001b[0m\u001b[0;34m\u001b[0m\u001b[0;34m\u001b[0m\u001b[0;34m\u001b[0m\u001b[0m\n\u001b[1;32m      3\u001b[0m \u001b[0;34m\u001b[0m\u001b[0m\n\u001b[0;32m----> 4\u001b[0;31m \u001b[0mprint\u001b[0m\u001b[0;34m(\u001b[0m\u001b[0mstr\u001b[0m\u001b[0;34m(\u001b[0m\u001b[0mlinks\u001b[0m\u001b[0;34m[\u001b[0m\u001b[0;36m0\u001b[0m\u001b[0;34m]\u001b[0m\u001b[0;34m)\u001b[0m\u001b[0;34m.\u001b[0m\u001b[0mtext\u001b[0m\u001b[0;34m(\u001b[0m\u001b[0;34m)\u001b[0m\u001b[0;34m)\u001b[0m\u001b[0;34m\u001b[0m\u001b[0;34m\u001b[0m\u001b[0m\n\u001b[0m\u001b[1;32m      5\u001b[0m \u001b[0mprint\u001b[0m\u001b[0;34m(\u001b[0m\u001b[0mjob_links\u001b[0m\u001b[0;34m[\u001b[0m\u001b[0;36m0\u001b[0m\u001b[0;34m]\u001b[0m\u001b[0;34m[\u001b[0m\u001b[0;36m35\u001b[0m\u001b[0;34m:\u001b[0m\u001b[0;36m45\u001b[0m\u001b[0;34m]\u001b[0m\u001b[0;34m)\u001b[0m\u001b[0;34m\u001b[0m\u001b[0;34m\u001b[0m\u001b[0m\n\u001b[1;32m      6\u001b[0m \u001b[0;34m\u001b[0m\u001b[0m\n",
      "\u001b[0;31mAttributeError\u001b[0m: 'str' object has no attribute 'text'"
     ]
    }
   ],
   "source": [
    "job_links = ['https://www.linkedin.com/jobs/view/2876356703/?alternateChannel=search&refId=783ZbPsjFVc7FoYfumyU7A%3D%3D&trackingId=Yd4TvE6ruM4Xb88JEcJUEw%3D%3D&trk=d_flagship3_search_srp_jobs', 'https://www.linkedin.com/jobs/view/2878784590/?alternateChannel=search&refId=783ZbPsjFVc7FoYfumyU7A%3D%3D&trackingId=xEESf52MDiyuHlUZgMSB9A%3D%3D&trk=d_flagship3_search_srp_jobs', 'https://www.linkedin.com/jobs/view/2878788529/?alternateChannel=search&refId=783ZbPsjFVc7FoYfumyU7A%3D%3D&trackingId=IIadnz8H16RQgrGDHi4aww%3D%3D&trk=d_flagship3_search_srp_jobs', 'https://www.linkedin.com/jobs/view/2882259479/?alternateChannel=search&refId=783ZbPsjFVc7FoYfumyU7A%3D%3D&trackingId=gkVlPtoegbhq9a2Ikhnx8A%3D%3D&trk=d_flagship3_search_srp_jobs', 'https://www.linkedin.com/jobs/view/2888775430/?alternateChannel=search&refId=783ZbPsjFVc7FoYfumyU7A%3D%3D&trackingId=pVaYdxSVXPE70Yl4L6rAWA%3D%3D&trk=d_flagship3_search_srp_jobs', 'https://www.linkedin.com/jobs/view/2891510437/?alternateChannel=search&refId=783ZbPsjFVc7FoYfumyU7A%3D%3D&trackingId=Ps0%2BTVSEqfVUBk%2FKhkuxeQ%3D%3D&trk=d_flagship3_search_srp_jobs', 'https://www.linkedin.com/jobs/view/2884255483/?alternateChannel=search&refId=783ZbPsjFVc7FoYfumyU7A%3D%3D&trackingId=P8wv2xgTN%2FYICI9s1%2BtT3w%3D%3D&trk=d_flagship3_search_srp_jobs', 'https://www.linkedin.com/jobs/view/2750392185/?alternateChannel=search&refId=783ZbPsjFVc7FoYfumyU7A%3D%3D&trackingId=R%2BX7l5RXvTGzNAkewvpBJQ%3D%3D&trk=d_flagship3_search_srp_jobs', 'https://www.linkedin.com/jobs/view/2804706206/?alternateChannel=search&refId=783ZbPsjFVc7FoYfumyU7A%3D%3D&trackingId=svb1wjrDWWRKNbjKboyMZg%3D%3D&trk=d_flagship3_search_srp_jobs', 'https://www.linkedin.com/jobs/view/2883083250/?alternateChannel=search&refId=783ZbPsjFVc7FoYfumyU7A%3D%3D&trackingId=yuNTYglFiqSlkcARi1cpOw%3D%3D&trk=d_flagship3_search_srp_jobs', 'https://www.linkedin.com/jobs/view/2879801478/?alternateChannel=search&refId=783ZbPsjFVc7FoYfumyU7A%3D%3D&trackingId=MJcN%2Bo3OpOG4EVyjsC0ZFQ%3D%3D&trk=d_flagship3_search_srp_jobs', 'https://www.linkedin.com/jobs/view/2888754024/?alternateChannel=search&refId=783ZbPsjFVc7FoYfumyU7A%3D%3D&trackingId=bgAgUbjI7N%2B2pVrNEfSEEQ%3D%3D&trk=d_flagship3_search_srp_jobs', 'https://www.linkedin.com/jobs/view/2888779236/?alternateChannel=search&refId=783ZbPsjFVc7FoYfumyU7A%3D%3D&trackingId=fW6UVsIRgGyTog%2FUSqCNHA%3D%3D&trk=d_flagship3_search_srp_jobs', 'https://www.linkedin.com/jobs/view/2767056259/?alternateChannel=search&refId=783ZbPsjFVc7FoYfumyU7A%3D%3D&trackingId=3E3wrSQOQ0NNOaEi9%2FsoAQ%3D%3D&trk=d_flagship3_search_srp_jobs', 'https://www.linkedin.com/jobs/view/2877445631/?alternateChannel=search&refId=783ZbPsjFVc7FoYfumyU7A%3D%3D&trackingId=JaKTltctX27d4XfIqYwmGA%3D%3D&trk=d_flagship3_search_srp_jobs', 'https://www.linkedin.com/jobs/view/2872378724/?alternateChannel=search&refId=783ZbPsjFVc7FoYfumyU7A%3D%3D&trackingId=NpMUstdXMrvhndDp0O54Dw%3D%3D&trk=d_flagship3_search_srp_jobs', 'https://www.linkedin.com/jobs/view/2874643681/?alternateChannel=search&refId=783ZbPsjFVc7FoYfumyU7A%3D%3D&trackingId=JGMfBr9RROghLwY%2Bf4XsUQ%3D%3D&trk=d_flagship3_search_srp_jobs', 'https://www.linkedin.com/jobs/view/2877732137/?alternateChannel=search&refId=783ZbPsjFVc7FoYfumyU7A%3D%3D&trackingId=kCOxD4I0SFXM5P%2BQCc80oQ%3D%3D&trk=d_flagship3_search_srp_jobs', 'https://www.linkedin.com/jobs/view/2889533297/?alternateChannel=search&refId=783ZbPsjFVc7FoYfumyU7A%3D%3D&trackingId=tS4MID%2F7sPVPgRAZlS7V1w%3D%3D&trk=d_flagship3_search_srp_jobs', 'https://www.linkedin.com/jobs/view/2893397305/?alternateChannel=search&refId=783ZbPsjFVc7FoYfumyU7A%3D%3D&trackingId=lxQLJl%2BjrzhnooYluK8uDA%3D%3D&trk=d_flagship3_search_srp_jobs', 'https://www.linkedin.com/jobs/view/2760802881/?alternateChannel=search&refId=783ZbPsjFVc7FoYfumyU7A%3D%3D&trackingId=S0ycXgDWe1K2GPRJ3l%2BROQ%3D%3D&trk=d_flagship3_search_srp_jobs', 'https://www.linkedin.com/jobs/view/2876866772/?alternateChannel=search&refId=783ZbPsjFVc7FoYfumyU7A%3D%3D&trackingId=vKU6EufewE%2Fa18VRq%2FIZyg%3D%3D&trk=d_flagship3_search_srp_jobs', 'https://www.linkedin.com/jobs/view/2848831324/?alternateChannel=search&refId=783ZbPsjFVc7FoYfumyU7A%3D%3D&trackingId=6R8wD97sSsxWpz0nbJCvWQ%3D%3D&trk=d_flagship3_search_srp_jobs', 'https://www.linkedin.com/jobs/view/2876403639/?alternateChannel=search&refId=783ZbPsjFVc7FoYfumyU7A%3D%3D&trackingId=3BSm7%2Bf0w01RZjd99Cw4Lg%3D%3D&trk=d_flagship3_search_srp_jobs', 'https://www.linkedin.com/jobs/view/2797249818/?alternateChannel=search&refId=783ZbPsjFVc7FoYfumyU7A%3D%3D&trackingId=KHmJHvtlXHp1FZEkH%2BKMug%3D%3D&trk=d_flagship3_search_srp_jobs']\n",
    "#yourstring = \"L\" + yourstring + \"LL\" \n",
    "\n",
    "print(str(links[0]).text())\n",
    "print(job_links[0][35:45])\n",
    "\n",
    "# print(links[0] == job_links[0])"
   ]
  },
  {
   "cell_type": "code",
   "execution_count": null,
   "metadata": {},
   "outputs": [],
   "source": []
  }
 ],
 "metadata": {
  "interpreter": {
   "hash": "9e1d592928d6e6e4f955f485b0700a17a3be63332de98b980658a4daa5c72c07"
  },
  "kernelspec": {
   "display_name": "Python 3.9.5 64-bit ('base': conda)",
   "language": "python",
   "name": "python3"
  },
  "language_info": {
   "codemirror_mode": {
    "name": "ipython",
    "version": 3
   },
   "file_extension": ".py",
   "mimetype": "text/x-python",
   "name": "python",
   "nbconvert_exporter": "python",
   "pygments_lexer": "ipython3",
   "version": "3.9.5"
  },
  "orig_nbformat": 4
 },
 "nbformat": 4,
 "nbformat_minor": 2
}
